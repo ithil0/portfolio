{
  "nbformat": 4,
  "nbformat_minor": 0,
  "metadata": {
    "colab": {
      "provenance": [],
      "authorship_tag": "ABX9TyM5TJZ8wbtJXaOTla+Zs+Eb",
      "include_colab_link": true
    },
    "kernelspec": {
      "name": "python3",
      "display_name": "Python 3"
    },
    "language_info": {
      "name": "python"
    }
  },
  "cells": [
    {
      "cell_type": "markdown",
      "metadata": {
        "id": "view-in-github",
        "colab_type": "text"
      },
      "source": [
        "<a href=\"https://colab.research.google.com/github/ithil0/portfolio/blob/main/portfolio.ipynb\" target=\"_parent\"><img src=\"https://colab.research.google.com/assets/colab-badge.svg\" alt=\"Open In Colab\"/></a>"
      ]
    },
    {
      "cell_type": "code",
      "source": [
        "from datetime import datetime"
      ],
      "metadata": {
        "id": "ceiVEnpfDkiY"
      },
      "execution_count": 22,
      "outputs": []
    },
    {
      "cell_type": "code",
      "execution_count": 23,
      "metadata": {
        "id": "4TkbOlRM7Tty"
      },
      "outputs": [],
      "source": [
        "class Stock:\n",
        "  def __init__(self, name):\n",
        "    self.name = name\n",
        "    self.prices = {}\n",
        "\n",
        "  #Method to keep adding prices to a particular stock in time\n",
        "  def add_price(self, date, price):\n",
        "    date_str = date.strftime('%Y-%m-%d') # Convert date to string when adding\n",
        "    self.prices[date_str] = price\n",
        "\n",
        "  def price(self, date):\n",
        "    date_str = date.strftime('%Y-%m-%d')\n",
        "    if date_str in self.prices:\n",
        "      return self.prices[date_str]\n",
        "    else:\n",
        "      raise ValueError(f\"Price for {self.name} on {date_str} is not available\")\n"
      ]
    },
    {
      "cell_type": "markdown",
      "source": [
        "### Retorno Anualizado\n",
        "\n",
        "Después de investigar sobre el concepto de **retorno anualizado**, comprendí que se refiere a la **tasa anual** de retorno de una inversión. En otras palabras, representa el beneficio o la pérdida que se obtendría si la duración de la inversión fuera de exactamente un año.\n",
        "\n",
        "El retorno anualizado es útil para comparar diferentes inversiones o activos con distintos horizontes temporales.\n",
        "\n",
        "Es importante destacar que, cuando se reporta esta cifra, hay que tener en cuenta que si la inversión ha estado activa por menos de un año, el retorno anualizado puede ser engañoso, ya que estaría proyectando resultados futuros en función de un período incompleto, en lugar de basarse en el comportamiento real de los números observados. Por lo tanto, es necesario tener precaución al interpretar estos valores en plazos inferiores a un año, ya que podrían no reflejar la realidad completa del rendimiento de la inversión.\n",
        "\n",
        "### Fórmula del Retorno Anualizado\n",
        "\n",
        "La fórmula del retorno anualizado se utiliza para calcular el retorno en términos anuales, ajustando los resultados para plazos de inversión menores a un año. La fórmula es la siguiente:\n",
        "\n",
        "$$\n",
        "\\text{Retorno Anualizado} = \\left( 1 + \\frac{\\text{Retorno Total}}{\\text{Valor Inicial}} \\right)^{\\frac{365}{\\text{Días}}} - 1\n",
        "$$\n",
        "\n",
        "Donde:\n",
        "- **Retorno Total**: Es la ganancia o pérdida obtenida en el período de inversión.\n",
        "- **Valor Inicial**: Es el valor del portafolio o inversión al inicio del período.\n",
        "- **Días**: Es el número de días que ha durado la inversión.\n",
        "\n",
        "Esta fórmula proyecta el retorno en términos anuales, permitiendo comparar inversiones con diferentes plazos temporales.\n"
      ],
      "metadata": {
        "id": "o9iHMBl_K4JL"
      }
    },
    {
      "cell_type": "code",
      "source": [
        "class Portfolio:\n",
        "    def __init__(self):\n",
        "      # Dictionary to keep track of stocks and its shares. Me gustan mucho los diccionarios <3\n",
        "      self.stocks = {}\n",
        "\n",
        "    def add_stock(self, stock, shares):\n",
        "      self.stocks[stock] = shares\n",
        "\n",
        "    def profit(self, start_date, end_date):\n",
        "      total_profit = 0.0\n",
        "      for stock, shares in self.stocks.items():\n",
        "        start_price = stock.price(start_date)\n",
        "        end_price = stock.price(end_date)\n",
        "        if start_price is None or end_price is None:\n",
        "          raise ValueError(f\"Price data missing for stock {stock.name}\")\n",
        "        total_profit += (end_price - start_price) * shares\n",
        "      return total_profit\n",
        "\n",
        "    def annualized_return(self, start_date, end_date):\n",
        "      total_profit = self.profit(start_date, end_date)\n",
        "      initial_investment = sum(stock.price(start_date) * shares for stock, shares in self.stocks.items())\n",
        "      if initial_investment == 0:\n",
        "        raise ValueError(\"Initial investment is zero. Please add information of your stocks and shares to calculate the annualized return.\")\n",
        "      cumulative_return = total_profit / initial_investment\n",
        "      days_diff = (end_date - start_date).days\n",
        "      if days_diff <= 0:\n",
        "        return 0\n",
        "      annualized_return = (1 + cumulative_return) ** (365 / days_diff) - 1\n",
        "      return annualized_return\n"
      ],
      "metadata": {
        "id": "DFvRSpsFDokh"
      },
      "execution_count": 24,
      "outputs": []
    },
    {
      "cell_type": "code",
      "source": [
        "if __name__ == \"__main__\":\n",
        "    stock1 = Stock(\"Fintual\")\n",
        "    stock1.add_price(datetime(2023, 1, 3), 150)\n",
        "    stock1.add_price(datetime(2024, 7, 21), 180)\n",
        "    stock1.add_price(datetime(2024, 1, 21), 160)\n",
        "\n",
        "    stock2 = Stock(\"Otro\")\n",
        "    stock2.add_price(datetime(2023, 1, 3), 2700)\n",
        "    stock2.add_price(datetime(2024, 1, 21), 3000)\n",
        "\n",
        "    portfolio = Portfolio()\n",
        "    portfolio.add_stock(stock1, 10)  # 10 shares de Fintual\n",
        "    portfolio.add_stock(stock2, 5)   # 5 shares de Otro\n",
        "\n",
        "    start_date = datetime(2023, 1, 3)\n",
        "    end_date = datetime(2024, 1, 21)\n",
        "\n",
        "    print(f\"Profit: {portfolio.profit(start_date, end_date)}\")\n",
        "    print(f\"Annualized Return: {portfolio.annualized_return(start_date, end_date)}\")"
      ],
      "metadata": {
        "colab": {
          "base_uri": "https://localhost:8080/"
        },
        "id": "OKCnr1EHPDzJ",
        "outputId": "945c84d4-3ca0-4f9b-cd1a-dd11f8ca4aef"
      },
      "execution_count": 25,
      "outputs": [
        {
          "output_type": "stream",
          "name": "stdout",
          "text": [
            "Profit: 1600.0\n",
            "Annualized Return: 0.10140781315195446\n"
          ]
        }
      ]
    }
  ]
}